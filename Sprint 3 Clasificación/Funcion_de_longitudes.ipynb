{
  "nbformat": 4,
  "nbformat_minor": 0,
  "metadata": {
    "colab": {
      "provenance": [],
      "authorship_tag": "ABX9TyPfIzSuR/lrcnOaJcLeNw63",
      "include_colab_link": true
    },
    "kernelspec": {
      "name": "python3",
      "display_name": "Python 3"
    },
    "language_info": {
      "name": "python"
    }
  },
  "cells": [
    {
      "cell_type": "markdown",
      "metadata": {
        "id": "view-in-github",
        "colab_type": "text"
      },
      "source": [
        "<a href=\"https://colab.research.google.com/github/metaute73/Proyecto-Gen-mica-2024-2/blob/main/Funcion_de_longitudes.ipynb\" target=\"_parent\"><img src=\"https://colab.research.google.com/assets/colab-badge.svg\" alt=\"Open In Colab\"/></a>"
      ]
    },
    {
      "cell_type": "code",
      "execution_count": 3,
      "metadata": {
        "colab": {
          "base_uri": "https://localhost:8080/"
        },
        "id": "DzOcZ4IYxyiQ",
        "outputId": "d752c6f1-b66f-41dd-84ac-a0b56aadd3b3"
      },
      "outputs": [
        {
          "output_type": "stream",
          "name": "stdout",
          "text": [
            "Archivo: LengthDepth_1.csv - Longitud Total: 5299336.0\n",
            "Archivo: LengthDepth_2.csv - Longitud Total: 7044536.0\n",
            "Archivo: LengthDepth_3.csv - Longitud Total: 6924535.0\n",
            "Archivo: LengthDepth_4.csv - Longitud Total: 6739166.0\n",
            "Archivo: LengthDepth_5.csv - Longitud Total: 7011501.0\n",
            "Archivo: LengthDepth_6.csv - Longitud Total: 6954741.0\n",
            "Archivo: LengthDepth_7.csv - Longitud Total: 6942289.0\n",
            "Archivo: LengthDepth_8.csv - Longitud Total: 6737730.0\n",
            "Archivo: LengthDepth_9.csv - Longitud Total: 6203530.0\n",
            "Archivo: LengthDepth_10.csv - Longitud Total: 6143246.0\n",
            "Archivo: LengthDepth_11.csv - Longitud Total: 6184920.0\n",
            "Archivo: LengthDepth_12.csv - Longitud Total: 3273119.0\n",
            "Archivo: LengthDepth_13.csv - Longitud Total: 8383707.0\n",
            "Archivo: LengthDepth_14.csv - Longitud Total: 6711612.0\n",
            "Archivo: LengthDepth_15.csv - Longitud Total: 4406278.0\n",
            "Archivo: LengthDepth_16.csv - Longitud Total: 5600352.0\n",
            "Archivo: LengthDepth_17.csv - Longitud Total: 3212146.0\n",
            "Archivo: LengthDepth_18.csv - Longitud Total: 4702097.0\n",
            "Archivo: LengthDepth_19.csv - Longitud Total: 2072103.0\n",
            "Archivo: LengthDepth_20.csv - Longitud Total: 2800916.0\n",
            "Archivo: LengthDepth_21.csv - Longitud Total: 4696891.0\n",
            "Archivo: LengthDepth_22.csv - Longitud Total: 4993817.0\n",
            "Archivo: LengthDepth_23.csv - Longitud Total: 5314299.0\n",
            "Archivo: LengthDepth_24.csv - Longitud Total: 5541438.0\n",
            "Archivo: LengthDepth_25.csv - Longitud Total: 5875511.0\n",
            "Archivo: LengthDepth_26.csv - Longitud Total: 2596104.0\n",
            "Archivo: LengthDepth_27.csv - Longitud Total: 5451083.0\n",
            "Archivo: LengthDepth_28.csv - Longitud Total: 1979590.0\n",
            "Archivo: LengthDepth_29.csv - Longitud Total: 2015296.0\n",
            "Archivo: LengthDepth_30.csv - Longitud Total: 1975726.0\n",
            "Archivo: LengthDepth_31.csv - Longitud Total: 4199592.0\n",
            "Archivo: LengthDepth_32.csv - Longitud Total: 4701641.0\n",
            "Archivo: LengthDepth_33.csv - Longitud Total: 10632395.0\n",
            "Archivo: LengthDepth_34.csv - Longitud Total: 4702995.0\n",
            "Archivo: LengthDepth_35.csv - Longitud Total: 4044056.0\n",
            "Archivo: LengthDepth_36.csv - Longitud Total: 8858154.0\n",
            "\n",
            "La longitud total de los scaffolds en todos los archivos es: 190926448.0\n"
          ]
        }
      ],
      "source": [
        "import pandas as pd\n",
        "\n",
        "def longitud_total_scaffolds(df):\n",
        "    \"\"\"\n",
        "    Calcula la longitud total de todos los scaffolds en el DataFrame.\n",
        "\n",
        "    Parámetros:\n",
        "        df (pd.DataFrame): DataFrame con una columna 'Length' que contiene las longitudes de los scaffolds.\n",
        "\n",
        "    Retorna:\n",
        "        float: Longitud total de los scaffolds.\n",
        "    \"\"\"\n",
        "    return df['Length'].sum()\n",
        "\n",
        "# Variable para acumular la longitud total de todos los archivos\n",
        "longitud_total_global = 0\n",
        "\n",
        "# Procesar todos los archivos del 1 al 36\n",
        "for i in range(1, 37):\n",
        "    file_path = f\"/content/LengthDepth_{i}.csv\"\n",
        "\n",
        "    try:\n",
        "        # Cargar el archivo CSV\n",
        "        df = pd.read_csv(file_path, delimiter='\\t')\n",
        "\n",
        "        # Calcular la longitud total para este archivo y acumularlo\n",
        "        longitud_total_global += longitud_total_scaffolds(df)\n",
        "\n",
        "        # Imprimir la longitud de cada archivo\n",
        "        print(f\"Archivo: LengthDepth_{i}.csv - Longitud Total: {longitud_total_scaffolds(df)}\")\n",
        "\n",
        "    except FileNotFoundError:\n",
        "        print(f\"Advertencia: No se encontró el archivo {file_path}, se omitirá.\")\n",
        "\n",
        "# Imprimir el total acumulado\n",
        "print(f\"\\nLa longitud total de los scaffolds en todos los archivos es: {longitud_total_global}\")"
      ]
    }
  ]
}